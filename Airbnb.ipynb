{
 "cells": [
  {
   "cell_type": "code",
   "execution_count": 1,
   "metadata": {},
   "outputs": [],
   "source": [
    "import numpy as np\n",
    "import pandas as pd\n",
    "import matplotlib.pyplot as plt\n",
    "from sklearn.model_selection import cross_val_score\n",
    "from sklearn.model_selection import GridSearchCV"
   ]
  },
  {
   "cell_type": "markdown",
   "metadata": {},
   "source": [
    "# Estudio preliminar de los datos"
   ]
  },
  {
   "cell_type": "markdown",
   "metadata": {},
   "source": [
    "Lo primero que se va a hacer es importar los datos y hacer un breve estudio para ver con qué se va a trabajar"
   ]
  },
  {
   "cell_type": "code",
   "execution_count": 2,
   "metadata": {
    "scrolled": true
   },
   "outputs": [
    {
     "data": {
      "text/html": [
       "<div>\n",
       "<style scoped>\n",
       "    .dataframe tbody tr th:only-of-type {\n",
       "        vertical-align: middle;\n",
       "    }\n",
       "\n",
       "    .dataframe tbody tr th {\n",
       "        vertical-align: top;\n",
       "    }\n",
       "\n",
       "    .dataframe thead th {\n",
       "        text-align: right;\n",
       "    }\n",
       "</style>\n",
       "<table border=\"1\" class=\"dataframe\">\n",
       "  <thead>\n",
       "    <tr style=\"text-align: right;\">\n",
       "      <th></th>\n",
       "      <th>neighbourhood_group</th>\n",
       "      <th>neighbourhood</th>\n",
       "      <th>latitude</th>\n",
       "      <th>longitude</th>\n",
       "      <th>room_type</th>\n",
       "      <th>price</th>\n",
       "      <th>minimum_nights</th>\n",
       "      <th>number_of_reviews</th>\n",
       "      <th>reviews_per_month</th>\n",
       "      <th>calculated_host_listings_count</th>\n",
       "      <th>availability_365</th>\n",
       "    </tr>\n",
       "  </thead>\n",
       "  <tbody>\n",
       "    <tr>\n",
       "      <th>0</th>\n",
       "      <td>Centro</td>\n",
       "      <td>Justicia</td>\n",
       "      <td>40.424715</td>\n",
       "      <td>-3.698638</td>\n",
       "      <td>Entire home/apt</td>\n",
       "      <td>49</td>\n",
       "      <td>28</td>\n",
       "      <td>35</td>\n",
       "      <td>0.42</td>\n",
       "      <td>1</td>\n",
       "      <td>99</td>\n",
       "    </tr>\n",
       "    <tr>\n",
       "      <th>1</th>\n",
       "      <td>Centro</td>\n",
       "      <td>Embajadores</td>\n",
       "      <td>40.413418</td>\n",
       "      <td>-3.706838</td>\n",
       "      <td>Entire home/apt</td>\n",
       "      <td>80</td>\n",
       "      <td>5</td>\n",
       "      <td>18</td>\n",
       "      <td>0.30</td>\n",
       "      <td>1</td>\n",
       "      <td>188</td>\n",
       "    </tr>\n",
       "    <tr>\n",
       "      <th>2</th>\n",
       "      <td>Moncloa - Aravaca</td>\n",
       "      <td>Argüelles</td>\n",
       "      <td>40.424920</td>\n",
       "      <td>-3.713446</td>\n",
       "      <td>Entire home/apt</td>\n",
       "      <td>40</td>\n",
       "      <td>2</td>\n",
       "      <td>21</td>\n",
       "      <td>0.25</td>\n",
       "      <td>9</td>\n",
       "      <td>195</td>\n",
       "    </tr>\n",
       "    <tr>\n",
       "      <th>3</th>\n",
       "      <td>Moncloa - Aravaca</td>\n",
       "      <td>Casa de Campo</td>\n",
       "      <td>40.431027</td>\n",
       "      <td>-3.724586</td>\n",
       "      <td>Entire home/apt</td>\n",
       "      <td>55</td>\n",
       "      <td>2</td>\n",
       "      <td>3</td>\n",
       "      <td>0.13</td>\n",
       "      <td>9</td>\n",
       "      <td>334</td>\n",
       "    </tr>\n",
       "    <tr>\n",
       "      <th>4</th>\n",
       "      <td>Latina</td>\n",
       "      <td>Cármenes</td>\n",
       "      <td>40.403410</td>\n",
       "      <td>-3.740842</td>\n",
       "      <td>Private room</td>\n",
       "      <td>16</td>\n",
       "      <td>2</td>\n",
       "      <td>23</td>\n",
       "      <td>0.76</td>\n",
       "      <td>2</td>\n",
       "      <td>250</td>\n",
       "    </tr>\n",
       "  </tbody>\n",
       "</table>\n",
       "</div>"
      ],
      "text/plain": [
       "  neighbourhood_group  neighbourhood   latitude  longitude        room_type  \\\n",
       "0              Centro       Justicia  40.424715  -3.698638  Entire home/apt   \n",
       "1              Centro    Embajadores  40.413418  -3.706838  Entire home/apt   \n",
       "2   Moncloa - Aravaca      Argüelles  40.424920  -3.713446  Entire home/apt   \n",
       "3   Moncloa - Aravaca  Casa de Campo  40.431027  -3.724586  Entire home/apt   \n",
       "4              Latina       Cármenes  40.403410  -3.740842     Private room   \n",
       "\n",
       "   price  minimum_nights  number_of_reviews  reviews_per_month  \\\n",
       "0     49              28                 35               0.42   \n",
       "1     80               5                 18               0.30   \n",
       "2     40               2                 21               0.25   \n",
       "3     55               2                  3               0.13   \n",
       "4     16               2                 23               0.76   \n",
       "\n",
       "   calculated_host_listings_count  availability_365  \n",
       "0                               1                99  \n",
       "1                               1               188  \n",
       "2                               9               195  \n",
       "3                               9               334  \n",
       "4                               2               250  "
      ]
     },
     "execution_count": 2,
     "metadata": {},
     "output_type": "execute_result"
    }
   ],
   "source": [
    "df = pd.read_csv('airbnb.csv')\n",
    "df.head()"
   ]
  },
  {
   "cell_type": "markdown",
   "metadata": {},
   "source": [
    "Con el método DataFrame.info() se puede ver si hay valores nulos en alguna columna"
   ]
  },
  {
   "cell_type": "code",
   "execution_count": 3,
   "metadata": {
    "scrolled": true
   },
   "outputs": [
    {
     "name": "stdout",
     "output_type": "stream",
     "text": [
      "<class 'pandas.core.frame.DataFrame'>\n",
      "RangeIndex: 13321 entries, 0 to 13320\n",
      "Data columns (total 11 columns):\n",
      " #   Column                          Non-Null Count  Dtype  \n",
      "---  ------                          --------------  -----  \n",
      " 0   neighbourhood_group             13321 non-null  object \n",
      " 1   neighbourhood                   13321 non-null  object \n",
      " 2   latitude                        13321 non-null  float64\n",
      " 3   longitude                       13321 non-null  float64\n",
      " 4   room_type                       13321 non-null  object \n",
      " 5   price                           13321 non-null  int64  \n",
      " 6   minimum_nights                  13321 non-null  int64  \n",
      " 7   number_of_reviews               13321 non-null  int64  \n",
      " 8   reviews_per_month               13321 non-null  float64\n",
      " 9   calculated_host_listings_count  13321 non-null  int64  \n",
      " 10  availability_365                13321 non-null  int64  \n",
      "dtypes: float64(3), int64(5), object(3)\n",
      "memory usage: 1.1+ MB\n"
     ]
    }
   ],
   "source": [
    "df.info()"
   ]
  },
  {
   "cell_type": "markdown",
   "metadata": {},
   "source": [
    "Afortunadamente no hay datos nulos así que no hay que realizar limpieza en ese aspecto"
   ]
  },
  {
   "cell_type": "markdown",
   "metadata": {},
   "source": [
    "Para echar un primer vistazo a las variables numéricas se va a usar DataFrame.describe() que proporciona distintos estadísticos como la media, la mediana etc de cada variable numérica"
   ]
  },
  {
   "cell_type": "code",
   "execution_count": 4,
   "metadata": {},
   "outputs": [
    {
     "data": {
      "text/html": [
       "<div>\n",
       "<style scoped>\n",
       "    .dataframe tbody tr th:only-of-type {\n",
       "        vertical-align: middle;\n",
       "    }\n",
       "\n",
       "    .dataframe tbody tr th {\n",
       "        vertical-align: top;\n",
       "    }\n",
       "\n",
       "    .dataframe thead th {\n",
       "        text-align: right;\n",
       "    }\n",
       "</style>\n",
       "<table border=\"1\" class=\"dataframe\">\n",
       "  <thead>\n",
       "    <tr style=\"text-align: right;\">\n",
       "      <th></th>\n",
       "      <th>latitude</th>\n",
       "      <th>longitude</th>\n",
       "      <th>price</th>\n",
       "      <th>minimum_nights</th>\n",
       "      <th>number_of_reviews</th>\n",
       "      <th>reviews_per_month</th>\n",
       "      <th>calculated_host_listings_count</th>\n",
       "      <th>availability_365</th>\n",
       "    </tr>\n",
       "  </thead>\n",
       "  <tbody>\n",
       "    <tr>\n",
       "      <th>count</th>\n",
       "      <td>13321.000000</td>\n",
       "      <td>13321.000000</td>\n",
       "      <td>13321.000000</td>\n",
       "      <td>13321.000000</td>\n",
       "      <td>13321.000000</td>\n",
       "      <td>13321.000000</td>\n",
       "      <td>13321.000000</td>\n",
       "      <td>13321.000000</td>\n",
       "    </tr>\n",
       "    <tr>\n",
       "      <th>mean</th>\n",
       "      <td>40.420730</td>\n",
       "      <td>-3.697268</td>\n",
       "      <td>69.171834</td>\n",
       "      <td>3.010885</td>\n",
       "      <td>22.986037</td>\n",
       "      <td>1.520329</td>\n",
       "      <td>7.605885</td>\n",
       "      <td>205.867202</td>\n",
       "    </tr>\n",
       "    <tr>\n",
       "      <th>std</th>\n",
       "      <td>0.020344</td>\n",
       "      <td>0.023832</td>\n",
       "      <td>103.721126</td>\n",
       "      <td>12.835619</td>\n",
       "      <td>38.406006</td>\n",
       "      <td>1.852367</td>\n",
       "      <td>19.619972</td>\n",
       "      <td>126.968961</td>\n",
       "    </tr>\n",
       "    <tr>\n",
       "      <th>min</th>\n",
       "      <td>40.331888</td>\n",
       "      <td>-3.863907</td>\n",
       "      <td>9.000000</td>\n",
       "      <td>1.000000</td>\n",
       "      <td>0.000000</td>\n",
       "      <td>0.000000</td>\n",
       "      <td>1.000000</td>\n",
       "      <td>0.000000</td>\n",
       "    </tr>\n",
       "    <tr>\n",
       "      <th>25%</th>\n",
       "      <td>40.410090</td>\n",
       "      <td>-3.707856</td>\n",
       "      <td>31.000000</td>\n",
       "      <td>1.000000</td>\n",
       "      <td>1.000000</td>\n",
       "      <td>0.110000</td>\n",
       "      <td>1.000000</td>\n",
       "      <td>84.000000</td>\n",
       "    </tr>\n",
       "    <tr>\n",
       "      <th>50%</th>\n",
       "      <td>40.418731</td>\n",
       "      <td>-3.701602</td>\n",
       "      <td>53.000000</td>\n",
       "      <td>2.000000</td>\n",
       "      <td>7.000000</td>\n",
       "      <td>0.780000</td>\n",
       "      <td>2.000000</td>\n",
       "      <td>247.000000</td>\n",
       "    </tr>\n",
       "    <tr>\n",
       "      <th>75%</th>\n",
       "      <td>40.427997</td>\n",
       "      <td>-3.693818</td>\n",
       "      <td>80.000000</td>\n",
       "      <td>3.000000</td>\n",
       "      <td>28.000000</td>\n",
       "      <td>2.320000</td>\n",
       "      <td>4.000000</td>\n",
       "      <td>321.000000</td>\n",
       "    </tr>\n",
       "    <tr>\n",
       "      <th>max</th>\n",
       "      <td>40.562736</td>\n",
       "      <td>-3.526821</td>\n",
       "      <td>7700.000000</td>\n",
       "      <td>1125.000000</td>\n",
       "      <td>446.000000</td>\n",
       "      <td>17.210000</td>\n",
       "      <td>145.000000</td>\n",
       "      <td>365.000000</td>\n",
       "    </tr>\n",
       "  </tbody>\n",
       "</table>\n",
       "</div>"
      ],
      "text/plain": [
       "           latitude     longitude         price  minimum_nights  \\\n",
       "count  13321.000000  13321.000000  13321.000000    13321.000000   \n",
       "mean      40.420730     -3.697268     69.171834        3.010885   \n",
       "std        0.020344      0.023832    103.721126       12.835619   \n",
       "min       40.331888     -3.863907      9.000000        1.000000   \n",
       "25%       40.410090     -3.707856     31.000000        1.000000   \n",
       "50%       40.418731     -3.701602     53.000000        2.000000   \n",
       "75%       40.427997     -3.693818     80.000000        3.000000   \n",
       "max       40.562736     -3.526821   7700.000000     1125.000000   \n",
       "\n",
       "       number_of_reviews  reviews_per_month  calculated_host_listings_count  \\\n",
       "count       13321.000000       13321.000000                    13321.000000   \n",
       "mean           22.986037           1.520329                        7.605885   \n",
       "std            38.406006           1.852367                       19.619972   \n",
       "min             0.000000           0.000000                        1.000000   \n",
       "25%             1.000000           0.110000                        1.000000   \n",
       "50%             7.000000           0.780000                        2.000000   \n",
       "75%            28.000000           2.320000                        4.000000   \n",
       "max           446.000000          17.210000                      145.000000   \n",
       "\n",
       "       availability_365  \n",
       "count      13321.000000  \n",
       "mean         205.867202  \n",
       "std          126.968961  \n",
       "min            0.000000  \n",
       "25%           84.000000  \n",
       "50%          247.000000  \n",
       "75%          321.000000  \n",
       "max          365.000000  "
      ]
     },
     "execution_count": 4,
     "metadata": {},
     "output_type": "execute_result"
    }
   ],
   "source": [
    "df.describe()"
   ]
  },
  {
   "cell_type": "markdown",
   "metadata": {},
   "source": [
    "Se observa que las variables price, minimum_nights, number_of_reviews y calculated_host_listings_count tienen una enorme diferencia entre su media y su mediana, lo que indica que son variables muy sesgadas. Cuando a continuación se dibujen sus histogramas se observará una cola por la derecha"
   ]
  },
  {
   "cell_type": "markdown",
   "metadata": {},
   "source": [
    "Ahora se va a estudiar las variables categóricas haciendo un recuento de cuantas veces aparece cada valor"
   ]
  },
  {
   "cell_type": "code",
   "execution_count": 5,
   "metadata": {},
   "outputs": [
    {
     "data": {
      "text/plain": [
       "Centro                   6773\n",
       "Chamberí                  960\n",
       "Salamanca                 883\n",
       "Arganzuela                790\n",
       "Tetuán                    463\n",
       "Moncloa - Aravaca         450\n",
       "Retiro                    439\n",
       "Latina                    379\n",
       "Chamartín                 361\n",
       "Carabanchel               358\n",
       "Ciudad Lineal             308\n",
       "Puente de Vallecas        222\n",
       "Hortaleza                 185\n",
       "Fuencarral - El Pardo     170\n",
       "Usera                     145\n",
       "San Blas - Canillejas     117\n",
       "Villaverde                 83\n",
       "Barajas                    81\n",
       "Moratalaz                  74\n",
       "Villa de Vallecas          46\n",
       "Vicálvaro                  34\n",
       "Name: neighbourhood_group, dtype: int64"
      ]
     },
     "execution_count": 5,
     "metadata": {},
     "output_type": "execute_result"
    }
   ],
   "source": [
    "df[\"neighbourhood_group\"].value_counts()"
   ]
  },
  {
   "cell_type": "code",
   "execution_count": 6,
   "metadata": {},
   "outputs": [
    {
     "data": {
      "text/plain": [
       "Embajadores       1848\n",
       "Universidad       1363\n",
       "Palacio           1084\n",
       "Sol                942\n",
       "Justicia           788\n",
       "                  ... \n",
       "Rosas                4\n",
       "Pavones              4\n",
       "Cuatro Vientos       3\n",
       "Orcasitas            2\n",
       "El Pardo             1\n",
       "Name: neighbourhood, Length: 126, dtype: int64"
      ]
     },
     "execution_count": 6,
     "metadata": {},
     "output_type": "execute_result"
    }
   ],
   "source": [
    "df[\"neighbourhood\"].value_counts()"
   ]
  },
  {
   "cell_type": "code",
   "execution_count": 7,
   "metadata": {},
   "outputs": [
    {
     "data": {
      "text/plain": [
       "Entire home/apt    7926\n",
       "Private room       5203\n",
       "Shared room         192\n",
       "Name: room_type, dtype: int64"
      ]
     },
     "execution_count": 7,
     "metadata": {},
     "output_type": "execute_result"
    }
   ],
   "source": [
    "df[\"room_type\"].value_counts()"
   ]
  },
  {
   "cell_type": "markdown",
   "metadata": {},
   "source": [
    "En la variable room_type hay un gran desequilibrio entre sus categorías: la categoría Shared room es mucho menos frecuente que las otras dos. Este se tendrá en cuenta al hacer la separación en test y training set y al diseñar los modelos.\n",
    "\n",
    "Por otro lado, la variable neighbourhood tiene muchas categorías que aparecen muy pocas veces. Esto puede causar que al dividir en training y test set algunas categorías solo aparezcan en el test set. Además al ser tan infrecuentes es improbable que el modelo aprenda nada de ellas. Por lo tanto las que aparecen menos de 10 veces se van a agrupar en la categoría 'Otros'"
   ]
  },
  {
   "cell_type": "code",
   "execution_count": 8,
   "metadata": {
    "scrolled": true
   },
   "outputs": [],
   "source": [
    "frecuencias = pd.DataFrame(df[\"neighbourhood\"].value_counts())\n",
    "df = df.join(frecuencias, on = 'neighbourhood',how = 'right', rsuffix='_frequencies')\n",
    "df.loc[df['neighbourhood_frequencies'] < 10, 'neighbourhood'] = 'Otro'\n",
    "df.drop(columns=['neighbourhood_frequencies'],inplace=True)\n",
    "df.sort_index(inplace=True)"
   ]
  },
  {
   "cell_type": "code",
   "execution_count": 9,
   "metadata": {},
   "outputs": [
    {
     "data": {
      "text/plain": [
       "Embajadores    1848\n",
       "Universidad    1363\n",
       "Palacio        1084\n",
       "Sol             942\n",
       "Justicia        788\n",
       "               ... \n",
       "Salvador         13\n",
       "Marroquina       12\n",
       "Ambroz           12\n",
       "Piovera          12\n",
       "Palomas          12\n",
       "Name: neighbourhood, Length: 108, dtype: int64"
      ]
     },
     "execution_count": 9,
     "metadata": {},
     "output_type": "execute_result"
    }
   ],
   "source": [
    "df[\"neighbourhood\"].value_counts()"
   ]
  },
  {
   "cell_type": "markdown",
   "metadata": {},
   "source": [
    "Se dibujan histogramas de las variables numéricas"
   ]
  },
  {
   "cell_type": "code",
   "execution_count": 10,
   "metadata": {
    "scrolled": true
   },
   "outputs": [
    {
     "data": {
      "image/png": "[encoded data removed]",
      "text/plain": [
       "<Figure size 1440x1440 with 9 Axes>"
      ]
     },
     "metadata": {
      "needs_background": "light"
     },
     "output_type": "display_data"
    }
   ],
   "source": [
    "df.hist(bins=100,figsize=(20,20))\n",
    "plt.show()"
   ]
  },
  {
   "cell_type": "markdown",
   "metadata": {},
   "source": [
    "Como se esperaba, las variables price, minimum_nights, number_of_reviews y calculated_host_listings_count tienen su máximo muy a la izquierda y una cola por la derecha. Como los máximos son tan grandes hay valores que no se aprecian bien, así que a continuación se dibujan los mismos histogramas pero en escala logarítmica para que aprecien bien todos los valores"
   ]
  },
  {
   "cell_type": "code",
   "execution_count": 11,
   "metadata": {},
   "outputs": [
    {
     "data": {
      "image/png": "[encoded data removed]",
      "text/plain": [
       "<Figure size 1440x1440 with 9 Axes>"
      ]
     },
     "metadata": {
      "needs_background": "light"
     },
     "output_type": "display_data"
    }
   ],
   "source": [
    "df.hist(bins=100,figsize=(20,20), log = True)\n",
    "plt.show()"
   ]
  },
  {
   "cell_type": "markdown",
   "metadata": {},
   "source": [
    "# Separación en training set y test set"
   ]
  },
  {
   "cell_type": "markdown",
   "metadata": {},
   "source": [
    "Como la variable objetivo está tan desequilibrada, se va a usar StratifiedShuffleSplit para que la proporción entre las tres categorías de room_type se mantenga en ambos sets. "
   ]
  },
  {
   "cell_type": "code",
   "execution_count": 12,
   "metadata": {},
   "outputs": [],
   "source": [
    "from sklearn.model_selection import StratifiedShuffleSplit\n",
    "\n",
    "split = StratifiedShuffleSplit(n_splits=1, test_size=0.2, random_state=1)\n",
    "for train_index, test_index in split.split(df, df['room_type']):\n",
    "    train_set = df.loc[train_index]\n",
    "    test_set = df.loc[test_index]"
   ]
  },
  {
   "cell_type": "markdown",
   "metadata": {},
   "source": [
    "A continuación se comprueba que la proporción entre las categorías en el test set es aproximadamente igual que en el dataframe original"
   ]
  },
  {
   "cell_type": "code",
   "execution_count": 13,
   "metadata": {},
   "outputs": [
    {
     "data": {
      "text/plain": [
       "Entire home/apt    0.200101\n",
       "Private room       0.200077\n",
       "Shared room        0.197917\n",
       "Name: room_type, dtype: float64"
      ]
     },
     "execution_count": 13,
     "metadata": {},
     "output_type": "execute_result"
    }
   ],
   "source": [
    "test_set[\"room_type\"].value_counts()/df[\"room_type\"].value_counts()"
   ]
  },
  {
   "cell_type": "markdown",
   "metadata": {},
   "source": [
    "# Preparación datos"
   ]
  },
  {
   "cell_type": "markdown",
   "metadata": {},
   "source": [
    "La preparación de los datos va a consistir en solo dos transformaciones. A las variables numéricas se les va a aplicar MinMaxScaler de manera que sus valores queden entre 0 y 1. A las variables categóricas se les aplica OneHotEncoder de manera que haya una columna con 1 o 0 para cada categoría. Estas transformaciones se realizan solo sobre las variables independientes, la variable independiente (room_type) queda intacta."
   ]
  },
  {
   "cell_type": "code",
   "execution_count": 14,
   "metadata": {},
   "outputs": [],
   "source": [
    "from sklearn.preprocessing import OneHotEncoder\n",
    "from sklearn.preprocessing import MinMaxScaler\n",
    "from sklearn.compose import ColumnTransformer\n",
    "\n",
    "train_set_features = train_set.drop(columns=['room_type'])\n",
    "train_set_labels = train_set['room_type'].copy()\n",
    "\n",
    "num_attribs = ['latitude','longitude',\n",
    "               'price','minimum_nights',\n",
    "               'number_of_reviews',\n",
    "               'reviews_per_month',\n",
    "               'calculated_host_listings_count',\n",
    "               'availability_365']\n",
    "cat_attribs = ['neighbourhood_group', 'neighbourhood']\n",
    "\n",
    "pipeline = ColumnTransformer([\n",
    "        (\"num\", MinMaxScaler(), num_attribs),\n",
    "        (\"cat\", OneHotEncoder(), cat_attribs),\n",
    "    ])\n",
    "\n",
    "train_set_prepared = pipeline.fit_transform(train_set_features)"
   ]
  },
  {
   "cell_type": "markdown",
   "metadata": {},
   "source": [
    "Aunque no se pide explicitamente en el enunciado de la práctica, también se realiza la preparación de los datos en el test set para luego poder comprobar la precisión del modelo sobre él."
   ]
  },
  {
   "cell_type": "code",
   "execution_count": 15,
   "metadata": {},
   "outputs": [],
   "source": [
    "test_set_features = test_set.drop(columns=['room_type'])\n",
    "test_set_labels = test_set['room_type'].copy()\n",
    "\n",
    "test_set_prepared = pipeline.transform(test_set_features)"
   ]
  },
  {
   "cell_type": "markdown",
   "metadata": {},
   "source": [
    "# Naive Bayes"
   ]
  },
  {
   "cell_type": "markdown",
   "metadata": {},
   "source": [
    "De entre los disintos modelos Naive Bayes se ha escogido el Complement Naive Bayes ya que según su documentación es el más adecuado para tratar con categorías desequilibradas como es este caso."
   ]
  },
  {
   "cell_type": "code",
   "execution_count": 16,
   "metadata": {},
   "outputs": [],
   "source": [
    "from sklearn.naive_bayes import ComplementNB\n",
    "NB_model = ComplementNB()"
   ]
  },
  {
   "cell_type": "markdown",
   "metadata": {},
   "source": [
    "En este modelo no hay que ajustar hiperparámetros así que se procede directamente a hacer la validación cruzada."
   ]
  },
  {
   "cell_type": "code",
   "execution_count": 17,
   "metadata": {},
   "outputs": [
    {
     "data": {
      "text/plain": [
       "0.6440512996679263"
      ]
     },
     "execution_count": 17,
     "metadata": {},
     "output_type": "execute_result"
    }
   ],
   "source": [
    "scores = cross_val_score(NB_model, train_set_prepared, train_set_labels,\n",
    "                         scoring=\"accuracy\", cv=10)\n",
    "scores.mean()"
   ]
  },
  {
   "cell_type": "markdown",
   "metadata": {},
   "source": [
    "Para medir la precisión del modelo sobre el test set se ha creado una función que comparará las categorías predichas con las reales."
   ]
  },
  {
   "cell_type": "code",
   "execution_count": 18,
   "metadata": {},
   "outputs": [],
   "source": [
    "def accuracy(list1, list2):\n",
    "    bool_list = (list1 == list2)\n",
    "    return np.count_nonzero(bool_list == True)/len(bool_list)"
   ]
  },
  {
   "cell_type": "code",
   "execution_count": 19,
   "metadata": {},
   "outputs": [],
   "source": [
    "NB_model.fit(train_set_prepared, train_set_labels)\n",
    "predictions = NB_model.predict(test_set_prepared)"
   ]
  },
  {
   "cell_type": "code",
   "execution_count": 20,
   "metadata": {
    "scrolled": true
   },
   "outputs": [
    {
     "data": {
      "text/plain": [
       "0.6472795497185742"
      ]
     },
     "execution_count": 20,
     "metadata": {},
     "output_type": "execute_result"
    }
   ],
   "source": [
    "accuracy(predictions, test_set_labels.values)"
   ]
  },
  {
   "cell_type": "markdown",
   "metadata": {},
   "source": [
    "La accuracy del modelo es ligeramente mayor en el test set, cuando debería ser menor. De todas formas la diferencia es tan pequeña que probablemente se deba a que la precisión en el training set se está calculando como la media de todas las validaciones cruzadas."
   ]
  },
  {
   "cell_type": "markdown",
   "metadata": {},
   "source": [
    "# KNN"
   ]
  },
  {
   "cell_type": "markdown",
   "metadata": {},
   "source": [
    "Para el modelo de k-nearest neighbors se ha elegido la opción de que cada vecino tenga un peso inversamente proporcional a su distancia (weights = 'distance'). De esta manera la cercanía de un vecino hace que tenga mayor peso lo que ayudaría con el desequilibrio de la variable room_type."
   ]
  },
  {
   "cell_type": "code",
   "execution_count": 21,
   "metadata": {},
   "outputs": [],
   "source": [
    "from sklearn.neighbors import KNeighborsClassifier\n",
    "knn = KNeighborsClassifier(weights = 'distance')"
   ]
  },
  {
   "cell_type": "markdown",
   "metadata": {},
   "source": [
    "Primero se calcula la precisión con validación cruzada sin ajustar los hiperparámetros"
   ]
  },
  {
   "cell_type": "code",
   "execution_count": 22,
   "metadata": {},
   "outputs": [
    {
     "data": {
      "text/plain": [
       "0.7088923534955827"
      ]
     },
     "execution_count": 22,
     "metadata": {},
     "output_type": "execute_result"
    }
   ],
   "source": [
    "scores = cross_val_score(knn, train_set_prepared, train_set_labels, scoring=\"accuracy\", cv=10)\n",
    "scores.mean()"
   ]
  },
  {
   "cell_type": "markdown",
   "metadata": {},
   "source": [
    "En este modelo el único hiperparámetro que hay que ajustar es el número de vecinos k. Como a priori no se conoce en qué rango de valores puede estar el k óptimo, primero se hace una busqueda entre valores de distintos tamaños."
   ]
  },
  {
   "cell_type": "code",
   "execution_count": 23,
   "metadata": {},
   "outputs": [
    {
     "data": {
      "text/plain": [
       "{'n_neighbors': 5}"
      ]
     },
     "execution_count": 23,
     "metadata": {},
     "output_type": "execute_result"
    }
   ],
   "source": [
    "param_grid = [\n",
    "    {'n_neighbors': [1,5,10,50,100,500,1000,5000]}]\n",
    "\n",
    "\n",
    "grid_search = GridSearchCV(knn, param_grid, cv=10,\n",
    "                           scoring='accuracy',\n",
    "                           return_train_score=True)\n",
    "\n",
    "grid_search.fit(train_set_prepared, train_set_labels)\n",
    "grid_search.best_params_"
   ]
  },
  {
   "cell_type": "markdown",
   "metadata": {},
   "source": [
    "Ahora que se sabe en qué rango de valores está el k óptimo se puede hacer una búsqueda más detallada entre todos los valores entre 1 y 10, omitiendo los múltiplos de 3 para que no haya empates."
   ]
  },
  {
   "cell_type": "code",
   "execution_count": 24,
   "metadata": {},
   "outputs": [
    {
     "data": {
      "text/plain": [
       "{'n_neighbors': 8}"
      ]
     },
     "execution_count": 24,
     "metadata": {},
     "output_type": "execute_result"
    }
   ],
   "source": [
    "param_grid = [\n",
    "    {'n_neighbors': [2,4,5,7,8]}]\n",
    "\n",
    "\n",
    "grid_search = GridSearchCV(knn, param_grid, cv=10,\n",
    "                           scoring='accuracy',\n",
    "                           return_train_score=True)\n",
    "\n",
    "grid_search.fit(train_set_prepared, train_set_labels)\n",
    "grid_search.best_params_"
   ]
  },
  {
   "cell_type": "markdown",
   "metadata": {},
   "source": [
    "Ahora que se ha determinado que el k óptimo es 8 se usa para hacer la validación cruzada"
   ]
  },
  {
   "cell_type": "code",
   "execution_count": 25,
   "metadata": {},
   "outputs": [
    {
     "data": {
      "text/plain": [
       "0.709550511323098"
      ]
     },
     "execution_count": 25,
     "metadata": {},
     "output_type": "execute_result"
    }
   ],
   "source": [
    "knn = KNeighborsClassifier(n_neighbors = 8, weights = 'distance')\n",
    "scores = cross_val_score(knn, train_set_prepared, train_set_labels, scoring=\"accuracy\", cv=10)\n",
    "scores.mean()"
   ]
  },
  {
   "cell_type": "markdown",
   "metadata": {},
   "source": [
    "La precisión es ligeramente mayor que con los valores por defecto"
   ]
  },
  {
   "cell_type": "markdown",
   "metadata": {},
   "source": [
    "Finalmente se calcula la precisión del modelo con el test set"
   ]
  },
  {
   "cell_type": "code",
   "execution_count": 26,
   "metadata": {},
   "outputs": [
    {
     "data": {
      "text/plain": [
       "0.7110694183864915"
      ]
     },
     "execution_count": 26,
     "metadata": {},
     "output_type": "execute_result"
    }
   ],
   "source": [
    "knn.fit(train_set_prepared, train_set_labels)\n",
    "predictions = knn.predict(test_set_prepared)\n",
    "accuracy(predictions, test_set_labels.values)"
   ]
  },
  {
   "cell_type": "markdown",
   "metadata": {},
   "source": [
    "En este caso la accuracy en el test set es de nuevo ligeramente mayor que en el training set porque en este se calcula como la media de todas las validaciones cruzadas"
   ]
  },
  {
   "cell_type": "markdown",
   "metadata": {},
   "source": [
    "# Decision Tree "
   ]
  },
  {
   "cell_type": "markdown",
   "metadata": {},
   "source": [
    "En el modelo de Decision Tree para tratar con con el desequilibrio de la variable room_type se ha elegido la opción class_weight = 'balanced' para que cada punto tenga un peso inversamente proporcional a la frecuencia de su categoría"
   ]
  },
  {
   "cell_type": "code",
   "execution_count": 27,
   "metadata": {},
   "outputs": [],
   "source": [
    "from sklearn.tree import DecisionTreeClassifier\n",
    "tree_clf = DecisionTreeClassifier(class_weight = 'balanced')"
   ]
  },
  {
   "cell_type": "markdown",
   "metadata": {},
   "source": [
    "Primero se prueba la validación cruzada sin ajustar hiperparámetros"
   ]
  },
  {
   "cell_type": "code",
   "execution_count": 28,
   "metadata": {},
   "outputs": [
    {
     "data": {
      "text/plain": [
       "0.8583899268028434"
      ]
     },
     "execution_count": 28,
     "metadata": {},
     "output_type": "execute_result"
    }
   ],
   "source": [
    "scores = cross_val_score(tree_clf, train_set_prepared, train_set_labels,\n",
    "                         scoring=\"accuracy\", cv=10)\n",
    "scores.mean()"
   ]
  },
  {
   "cell_type": "markdown",
   "metadata": {},
   "source": [
    "Para que no haya que evaluar cada posible combinación de max_leaf_nodes, min_samples_split y max_depth primero se hace una busqueda preliminar y en función de lo que se obtenga se hará otra busqueda más exhaustiva"
   ]
  },
  {
   "cell_type": "code",
   "execution_count": 29,
   "metadata": {},
   "outputs": [
    {
     "data": {
      "text/plain": [
       "{'max_depth': 7, 'max_leaf_nodes': 14, 'min_samples_split': 2}"
      ]
     },
     "execution_count": 29,
     "metadata": {},
     "output_type": "execute_result"
    }
   ],
   "source": [
    "param_grid = [\n",
    "    {'max_leaf_nodes': range(2,51,4),\n",
    "    'min_samples_split': range(2,7,2),\n",
    "    'max_depth': range(1,21,3)}]\n",
    "\n",
    "\n",
    "grid_search = GridSearchCV(tree_clf, param_grid, cv=10,\n",
    "                           scoring='accuracy',\n",
    "                           return_train_score=True)\n",
    "\n",
    "grid_search.fit(train_set_prepared, train_set_labels)\n",
    "grid_search.best_params_"
   ]
  },
  {
   "cell_type": "markdown",
   "metadata": {},
   "source": [
    "Ahora sabiendo en qué rango se encuentran los valores óptimos de los hiperparámetros se realiza una búsqueda más precisa."
   ]
  },
  {
   "cell_type": "code",
   "execution_count": 30,
   "metadata": {},
   "outputs": [
    {
     "data": {
      "text/plain": [
       "{'max_depth': 6, 'max_leaf_nodes': 14, 'min_samples_split': 2}"
      ]
     },
     "execution_count": 30,
     "metadata": {},
     "output_type": "execute_result"
    }
   ],
   "source": [
    "param_grid = [\n",
    "    {'max_leaf_nodes': [11,12,13,14,15,16,17],\n",
    "    'min_samples_split': [2,3],\n",
    "    'max_depth': [5,6,7,8,9]}]\n",
    "\n",
    "\n",
    "grid_search = GridSearchCV(tree_clf, param_grid, cv=10,\n",
    "                           scoring='accuracy',\n",
    "                           return_train_score=True)\n",
    "\n",
    "grid_search.fit(train_set_prepared, train_set_labels)\n",
    "grid_search.best_params_"
   ]
  },
  {
   "cell_type": "markdown",
   "metadata": {},
   "source": [
    "Una vez encontrados los hiperparámetros óptimos se usan en la validación cruzada"
   ]
  },
  {
   "cell_type": "code",
   "execution_count": 31,
   "metadata": {},
   "outputs": [
    {
     "data": {
      "text/plain": [
       "0.8253595116666226"
      ]
     },
     "execution_count": 31,
     "metadata": {},
     "output_type": "execute_result"
    }
   ],
   "source": [
    "tree_clf = DecisionTreeClassifier(class_weight = 'balanced', max_depth = 6, max_leaf_nodes = 14, min_samples_split = 2)\n",
    "\n",
    "scores = cross_val_score(tree_clf, train_set_prepared, train_set_labels,\n",
    "                         scoring=\"accuracy\", cv=10)\n",
    "scores.mean()"
   ]
  },
  {
   "cell_type": "markdown",
   "metadata": {},
   "source": [
    "A priori parace sorprendente que la precisión ahora sea menor que cuando se ha usado el modelo con las opciones por defecto. El motivo es que por defecto max_depth y max_leaf_nodes son ilimitados lo que provoca que haya mucho overfitting y la precisión sea mayor."
   ]
  },
  {
   "cell_type": "markdown",
   "metadata": {},
   "source": [
    "Por último se prueba el modelo con el test set."
   ]
  },
  {
   "cell_type": "code",
   "execution_count": 32,
   "metadata": {},
   "outputs": [
    {
     "data": {
      "text/plain": [
       "0.8375234521575985"
      ]
     },
     "execution_count": 32,
     "metadata": {},
     "output_type": "execute_result"
    }
   ],
   "source": [
    "tree_clf.fit(train_set_prepared, train_set_labels)\n",
    "predictions = tree_clf.predict(test_set_prepared)\n",
    "accuracy(predictions, test_set_labels.values)"
   ]
  },
  {
   "cell_type": "markdown",
   "metadata": {},
   "source": [
    "La precisión para el test set es un poco mejor que para el training set, por los mismos motivos que en los otros dos modelos"
   ]
  },
  {
   "cell_type": "markdown",
   "metadata": {},
   "source": [
    "# Conclusiones"
   ]
  },
  {
   "cell_type": "markdown",
   "metadata": {},
   "source": [
    "De los tres modelos el que consigue hacer predicciones con mayor exactitud es el Decision Tree (83%), con una gran diferencia con respecto a los otros dos (65% y 71%). Cabe destacar que una exactitud del 83% es batante buena teniendo en cuenta que el tamaño del data set no era muy grande, las clases estaban desequilibradas y que los datos se han usado prácticamente sin modificar. Es decir, que si se hubiera contado con un experto que supiera como se relacionan las variables independientes con la dependiente se podrían haber hecho modelos más exactos.\n",
    "\n",
    "Es notable también que ajustar los hiperparámetros no ha resultado en una gran mejoría de la exactitud."
   ]
  }
 ],
 "metadata": {
  "kernelspec": {
   "display_name": "Python 3 (ipykernel)",
   "language": "python",
   "name": "python3"
  },
  "language_info": {
   "codemirror_mode": {
    "name": "ipython",
    "version": 3
   },
   "file_extension": ".py",
   "mimetype": "text/x-python",
   "name": "python",
   "nbconvert_exporter": "python",
   "pygments_lexer": "ipython3",
   "version": "3.9.7"
  },
  "widgets": {
   "application/vnd.jupyter.widget-state+json": {
    "state": {},
    "version_major": 2,
    "version_minor": 0
   }
  }
 },
 "nbformat": 4,
 "nbformat_minor": 4
}
